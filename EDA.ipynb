{
 "cells": [
  {
   "cell_type": "code",
   "execution_count": 10,
   "metadata": {},
   "outputs": [
    {
     "name": "stdout",
     "output_type": "stream",
     "text": [
      "OmEKr1TnZYqeSHDZ7IsGGF8ilj0R0EQp\n",
      "HJ48VNC66Z0Q01V9\n"
     ]
    }
   ],
   "source": [
    "# get api key from your .env file\n",
    "import os\n",
    "import requests\n",
    "\n",
    "from dotenv import load_dotenv  # if missing this module, simply run `pip install python-dotenv`\n",
    "\n",
    "load_dotenv()\n",
    "API_KEY = os.getenv('POLYGON_API_KEY')\n",
    "ALPHA_ADVANTAGE_API_KEY = os.getenv('ALPHA_ADVANTAGE_API_KEY')\n",
    "\n",
    "print(API_KEY)\n",
    "print(ALPHA_ADVANTAGE_API_KEY)"
   ]
  },
  {
   "attachments": {},
   "cell_type": "markdown",
   "metadata": {},
   "source": [
    "<h3> Dataset One: POLYGON Daily Data </h3>\n",
    "\n",
    "Pulled from Polygon per day, with open, high, low, and close for the entire market (total 10k+). Polygon has a API call limit of 5 / minute, so I can write a script to make five calls per minute to gather a year of data. \n",
    "\n",
    "<b> Potential limitations: </b> With daily data, perhaps the data will not be granular enough to provide accurate results.\n"
   ]
  },
  {
   "cell_type": "code",
   "execution_count": 2,
   "metadata": {},
   "outputs": [
    {
     "name": "stdout",
     "output_type": "stream",
     "text": [
      "https://api.polygon.io/v2/aggs/grouped/locale/us/market/stocks/2023-01-09\n"
     ]
    }
   ],
   "source": [
    "payload = {'adjusted': 'true', 'include_otc': 'false','apiKey':API_KEY}\n",
    "date = '2023-01-09'\n",
    "URL = 'https://api.polygon.io/v2/aggs/grouped/locale/us/market/stocks/' + date\n",
    "\n",
    "print(URL)\n",
    "daily_req = requests.get(URL, params=payload)"
   ]
  },
  {
   "cell_type": "code",
   "execution_count": 3,
   "metadata": {},
   "outputs": [
    {
     "name": "stdout",
     "output_type": "stream",
     "text": [
      "10953\n"
     ]
    }
   ],
   "source": [
    "result_json = daily_req.json()\n",
    "\n",
    "data = result_json['results']\n",
    "\n",
    "print(len(data))\n"
   ]
  },
  {
   "attachments": {},
   "cell_type": "markdown",
   "metadata": {},
   "source": [
    "<h3> Dataset Two: POLYGON Aggregates </h3>\n",
    "\n",
    "Pulled from POLYGON per stock, minute by minute data for an individual stock. If I choose to focus on a specific market and pick a set of specific stocks, can create a script to pull all of the data. Limit of 50000 base aggregate bars (by minute) per query. Due to this, must pull data in two-month chunks (which means that we can approximately pull a year of data for a single stock in a bit over a minute)."
   ]
  },
  {
   "cell_type": "code",
   "execution_count": 4,
   "metadata": {},
   "outputs": [
    {
     "name": "stdout",
     "output_type": "stream",
     "text": [
      "https://api.polygon.io/v2/aggs/ticker/AAPL/range/1/minute/2022-11-01/2023-01-01\n"
     ]
    }
   ],
   "source": [
    "payload = {'adjusted': 'true', 'sort': 'asc','apiKey':API_KEY, 'limit':'50000'}\n",
    "date_start = '2022-11-01'\n",
    "date_end = '2023-01-01'\n",
    "stock = 'AAPL'\n",
    "URL = 'https://api.polygon.io/v2/aggs/ticker/' + stock + '/range/1/minute/' + date_start + '/' + date_end \n",
    "\n",
    "print(URL)\n",
    "\n",
    "minute_req = requests.get(URL, params=payload)"
   ]
  },
  {
   "cell_type": "code",
   "execution_count": 5,
   "metadata": {},
   "outputs": [
    {
     "name": "stdout",
     "output_type": "stream",
     "text": [
      "33253\n"
     ]
    }
   ],
   "source": [
    "minute_json = minute_req.json()\n",
    "\n",
    "minute_data = minute_json['results']\n",
    "\n",
    "print(len(minute_data))"
   ]
  },
  {
   "attachments": {},
   "cell_type": "markdown",
   "metadata": {},
   "source": [
    "<h3> Dataset Three: Alpha Advantage Fundamental Data </h3>\n",
    "\n",
    "Pulled from 'alphadvantage' per company. If I choose to focus on a specific set of stocks, then i can pull fundamental data for a select few companies through this. This specific example is for the quarterly balance sheets for a company. I'll be able to retrieve other fundamental + stock data as well, for specific companies."
   ]
  },
  {
   "cell_type": "code",
   "execution_count": 14,
   "metadata": {},
   "outputs": [
    {
     "name": "stdout",
     "output_type": "stream",
     "text": [
      "https://www.alphavantage.co/query\n"
     ]
    }
   ],
   "source": [
    "advantage_payload = {'function':'BALANCE_SHEET','symbol':'AAPL','apikey':ALPHA_ADVANTAGE_API_KEY}\n",
    "\n",
    "advantage_URL = 'https://www.alphavantage.co/query'\n",
    "\n",
    "adv_req = requests.get(advantage_URL, params=advantage_payload)"
   ]
  },
  {
   "cell_type": "code",
   "execution_count": 19,
   "metadata": {},
   "outputs": [
    {
     "name": "stdout",
     "output_type": "stream",
     "text": [
      "20\n"
     ]
    }
   ],
   "source": [
    "adv_json = adv_req.json()\n",
    "\n",
    "quarterly_reports = adv_json['quarterlyReports']\n",
    "\n",
    "print(len(quarterly_reports))"
   ]
  },
  {
   "cell_type": "code",
   "execution_count": null,
   "metadata": {},
   "outputs": [],
   "source": []
  }
 ],
 "metadata": {
  "kernelspec": {
   "display_name": "Python 3",
   "language": "python",
   "name": "python3"
  },
  "language_info": {
   "codemirror_mode": {
    "name": "ipython",
    "version": 3
   },
   "file_extension": ".py",
   "mimetype": "text/x-python",
   "name": "python",
   "nbconvert_exporter": "python",
   "pygments_lexer": "ipython3",
   "version": "3.11.1"
  },
  "orig_nbformat": 4
 },
 "nbformat": 4,
 "nbformat_minor": 2
}
